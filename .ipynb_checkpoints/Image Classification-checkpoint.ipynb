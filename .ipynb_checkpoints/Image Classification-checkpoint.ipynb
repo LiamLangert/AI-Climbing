{
 "cells": [
  {
   "cell_type": "code",
   "execution_count": 1,
   "id": "ad23a0ad-91a1-422a-82b5-77f73f4d26d3",
   "metadata": {},
   "outputs": [],
   "source": [
    "%matplotlib inline\n",
    "\n",
    "import matplotlib.pyplot as plt\n",
    "import numpy as np\n",
    "import os"
   ]
  },
  {
   "cell_type": "code",
   "execution_count": 2,
   "id": "d6580a4e-fe3d-40b4-8d46-668a27c40e8d",
   "metadata": {},
   "outputs": [],
   "source": [
    "import joblib\n",
    "from skimage.io import imread\n",
    "from skimage.transform import resize"
   ]
  },
  {
   "cell_type": "code",
   "execution_count": 3,
   "id": "0004e5cc-98e1-4e30-8bf4-95a47327ce0f",
   "metadata": {},
   "outputs": [],
   "source": [
    "def resize_all(src, pklname, include, width=150, height=None):\n",
    "    height = height if height is not None else width\n",
    "     \n",
    "    data = dict()\n",
    "    data['description'] = 'resized ({0}x{1}) images in rgb'.format(int(width), int(height))\n",
    "    data['label'] = []\n",
    "    data['filename'] = []\n",
    "    data['data'] = []   \n",
    "     \n",
    "    pklname = f\"{pklname}_{width}x{height}px.pkl\"\n",
    " \n",
    "    for subdir in os.listdir(src):\n",
    "        if subdir in include:\n",
    "            print(subdir)\n",
    "            current_path = os.path.join(src, subdir)\n",
    " \n",
    "            for file in os.listdir(current_path):\n",
    "                if file[-3:] in {'jpg', 'png'}:\n",
    "                    im = imread(os.path.join(current_path, file))[:,:,:3]\n",
    "                    im = resize(im, (width, height)) #[:,:,::-1]\n",
    "                    data['label'].append(subdir)\n",
    "                    data['filename'].append(file)\n",
    "                    data['data'].append(im)\n",
    " \n",
    "        joblib.dump(data, pklname)"
   ]
  },
  {
   "cell_type": "code",
   "execution_count": 6,
   "id": "3115529d-22fe-4e20-b397-0b38bb30d634",
   "metadata": {},
   "outputs": [
    {
     "data": {
      "text/plain": [
       "['Footholds', 'Jugs', 'Slopers']"
      ]
     },
     "execution_count": 6,
     "metadata": {},
     "output_type": "execute_result"
    }
   ],
   "source": [
    "data_path = fr'{os.getenv(\"HOME\")}/AI-Climbing/HoldImages'\n",
    "os.listdir(data_path)"
   ]
  },
  {
   "cell_type": "code",
   "execution_count": 7,
   "id": "e574b9ee-cbc2-450d-bfef-0fcece643246",
   "metadata": {},
   "outputs": [
    {
     "name": "stdout",
     "output_type": "stream",
     "text": [
      "Footholds\n",
      "Jugs\n",
      "Slopers\n"
     ]
    }
   ],
   "source": [
    "base_name = 'holds'\n",
    "width = 80\n",
    "include = {'Jugs', 'Footholds', 'Slopers'}\n",
    "resize_all(src=data_path, pklname=base_name, width=width, include=include)"
   ]
  },
  {
   "cell_type": "code",
   "execution_count": 8,
   "id": "481aedd0-5fc8-4efb-857d-5e34ea73e8eb",
   "metadata": {},
   "outputs": [
    {
     "name": "stdout",
     "output_type": "stream",
     "text": [
      "number of samples:  148\n",
      "keys:  ['description', 'label', 'filename', 'data']\n",
      "description:  resized (80x80) images in rgb\n",
      "image shape:  (80, 80, 3)\n",
      "labels: ['Footholds' 'Jugs' 'Slopers']\n"
     ]
    },
    {
     "data": {
      "text/plain": [
       "Counter({'Footholds': 56, 'Jugs': 50, 'Slopers': 42})"
      ]
     },
     "execution_count": 8,
     "metadata": {},
     "output_type": "execute_result"
    }
   ],
   "source": [
    "from collections import Counter\n",
    " \n",
    "data = joblib.load(f'{base_name}_{width}x{width}px.pkl')\n",
    " \n",
    "print('number of samples: ', len(data['data']))\n",
    "print('keys: ', list(data.keys()))\n",
    "print('description: ', data['description'])\n",
    "print('image shape: ', data['data'][0].shape)\n",
    "print('labels:', np.unique(data['label']))\n",
    " \n",
    "Counter(data['label'])"
   ]
  },
  {
   "cell_type": "code",
   "execution_count": 9,
   "id": "a39a4b27-8156-4a2a-983b-4a7ad343e69a",
   "metadata": {},
   "outputs": [],
   "source": [
    "X = np.array(data['data'])\n",
    "y = np.array(data['label'])"
   ]
  },
  {
   "cell_type": "code",
   "execution_count": 10,
   "id": "52d86d8b-5960-483b-a463-70ed7ce5155e",
   "metadata": {},
   "outputs": [],
   "source": [
    "from sklearn.model_selection import train_test_split\n",
    " \n",
    "X_train, X_test, y_train, y_test = train_test_split(\n",
    "    X, \n",
    "    y, \n",
    "    test_size=0.2, \n",
    "    shuffle=True,\n",
    "    random_state=42,\n",
    ")"
   ]
  },
  {
   "cell_type": "code",
   "execution_count": 11,
   "id": "a5973102-7da9-4a09-b384-7b28d2bfc00b",
   "metadata": {},
   "outputs": [],
   "source": [
    "from sklearn.base import BaseEstimator, TransformerMixin\n",
    "from skimage.feature import hog\n",
    "\n",
    " \n",
    "class RGB2GrayTransformer(BaseEstimator, TransformerMixin):\n",
    "    \"\"\"\n",
    "    Convert an array of RGB images to grayscale\n",
    "    \"\"\"\n",
    " \n",
    "    def __init__(self):\n",
    "        pass\n",
    " \n",
    "    def fit(self, X, y=None):\n",
    "        \"\"\"returns itself\"\"\"\n",
    "        return self\n",
    " \n",
    "    def transform(self, X, y=None):\n",
    "        \"\"\"perform the transformation and return an array\"\"\"\n",
    "        newx = np.array([skimage.color.rgb2gray(img) for img in X])\n",
    "        x = np.array([img for img in newx])\n",
    "        return x\n",
    "     \n",
    " \n",
    "class HogTransformer(BaseEstimator, TransformerMixin):\n",
    "    \"\"\"\n",
    "    Expects an array of 2d arrays (1 channel images)\n",
    "    Calculates hog features for each img\n",
    "    \"\"\"\n",
    " \n",
    "    def __init__(self, y=None, orientations=9,\n",
    "                 pixels_per_cell=(8, 8),\n",
    "                 cells_per_block=(3, 3), block_norm='L2-Hys'):\n",
    "        self.y = y\n",
    "        self.orientations = orientations\n",
    "        self.pixels_per_cell = pixels_per_cell\n",
    "        self.cells_per_block = cells_per_block\n",
    "        self.block_norm = block_norm\n",
    " \n",
    "    def fit(self, X, y=None):\n",
    "        return self\n",
    " \n",
    "    def transform(self, X, y=None):\n",
    "        def local_hog(X):\n",
    "            return hog(X,\n",
    "                       orientations=self.orientations,\n",
    "                       pixels_per_cell=self.pixels_per_cell,\n",
    "                       cells_per_block=self.cells_per_block,\n",
    "                       block_norm=self.block_norm)\n",
    " \n",
    "        try: # parallel\n",
    "            return np.array([local_hog(img) for img in X])\n",
    "        except:\n",
    "            return np.array([local_hog(img) for img in X])"
   ]
  },
  {
   "cell_type": "code",
   "execution_count": 12,
   "id": "f1be25b6-a7b1-4b64-a45d-89e056bccc28",
   "metadata": {},
   "outputs": [
    {
     "name": "stdout",
     "output_type": "stream",
     "text": [
      "Percentage correct:  70.0\n"
     ]
    }
   ],
   "source": [
    "from sklearn.pipeline import Pipeline\n",
    "from sklearn import svm\n",
    "from sklearn.linear_model import SGDClassifier\n",
    "from sklearn.model_selection import cross_val_predict\n",
    "from sklearn.preprocessing import StandardScaler, Normalizer\n",
    "import skimage\n",
    " \n",
    "img_pipeline = Pipeline([\n",
    "    ('grayify', RGB2GrayTransformer()),\n",
    "    ('hogify', HogTransformer(\n",
    "        pixels_per_cell=(2, 2), \n",
    "        cells_per_block=(2, 2), \n",
    "        orientations=9, \n",
    "        block_norm='L2-Hys')\n",
    "    ),\n",
    "    ('scalify', StandardScaler()),\n",
    "    ('classify', SGDClassifier(random_state=42, max_iter=1000, tol=1e-3))\n",
    "])\n",
    " \n",
    "clf = img_pipeline.fit(X_train, y_train)\n",
    "print('Percentage correct: ', 100*np.sum(clf.predict(X_test) == y_test)/len(y_test))\n"
   ]
  },
  {
   "cell_type": "code",
   "execution_count": 13,
   "id": "538c8038-15ae-4232-8fdf-ddec8d0269fe",
   "metadata": {},
   "outputs": [],
   "source": [
    "from sklearn.model_selection import GridSearchCV\n",
    "from sklearn.calibration import CalibratedClassifierCV\n",
    " \n",
    "param_grid = [\n",
    "    {\n",
    "        'hogify__orientations': [8, 9],\n",
    "        'hogify__cells_per_block': [(2, 2), (3, 3)],\n",
    "        'hogify__pixels_per_cell': [(2, 2), (3, 3), (4, 4)]\n",
    "    },\n",
    "    {\n",
    "        'hogify__orientations': [8],\n",
    "         'hogify__cells_per_block': [(3, 3)],\n",
    "         'hogify__pixels_per_cell': [(2, 2)],\n",
    "         'classify': [\n",
    "             SGDClassifier(random_state=42, max_iter=1000, tol=1e-3),\n",
    "             svm.SVC(kernel='linear')\n",
    "         ]\n",
    "    }\n",
    "]"
   ]
  },
  {
   "cell_type": "code",
   "execution_count": 14,
   "id": "34e9d061-e8dd-40b4-9e6b-ccbf3d743a48",
   "metadata": {},
   "outputs": [
    {
     "name": "stdout",
     "output_type": "stream",
     "text": [
      "Fitting 3 folds for each of 14 candidates, totalling 42 fits\n",
      "0.7288461538461539\n"
     ]
    }
   ],
   "source": [
    "grid_search = GridSearchCV(img_pipeline, \n",
    "                           param_grid, \n",
    "                           cv=3,\n",
    "                           n_jobs=-1,\n",
    "                           scoring='accuracy',\n",
    "                           verbose=1,\n",
    "                           return_train_score=True)\n",
    "clf = CalibratedClassifierCV(grid_search) \n",
    "grid_res = grid_search.fit(X_train, y_train)\n",
    "print(grid_res.best_score_)\n"
   ]
  },
  {
   "cell_type": "code",
   "execution_count": 22,
   "id": "da87dd11-4355-47a2-a474-f05c0e11ed42",
   "metadata": {},
   "outputs": [],
   "source": [
    "calibration_clf = CalibratedClassifierCV(grid_res.best_estimator_)\n",
    "clf_res = calibration_clf.fit(X_train, y_train)\n"
   ]
  },
  {
   "cell_type": "code",
   "execution_count": 23,
   "id": "5a17efdd-23ce-410b-bf06-0dcb80207e1c",
   "metadata": {},
   "outputs": [],
   "source": [
    "joblib.dump(clf_res, 'hog_sgd_model.pkl');"
   ]
  },
  {
   "cell_type": "code",
   "execution_count": 24,
   "id": "8ad6cd99-cb75-4af8-a5c1-b3cd856ab165",
   "metadata": {},
   "outputs": [
    {
     "data": {
      "text/html": [
       "<style>#sk-container-id-2 {color: black;}#sk-container-id-2 pre{padding: 0;}#sk-container-id-2 div.sk-toggleable {background-color: white;}#sk-container-id-2 label.sk-toggleable__label {cursor: pointer;display: block;width: 100%;margin-bottom: 0;padding: 0.3em;box-sizing: border-box;text-align: center;}#sk-container-id-2 label.sk-toggleable__label-arrow:before {content: \"▸\";float: left;margin-right: 0.25em;color: #696969;}#sk-container-id-2 label.sk-toggleable__label-arrow:hover:before {color: black;}#sk-container-id-2 div.sk-estimator:hover label.sk-toggleable__label-arrow:before {color: black;}#sk-container-id-2 div.sk-toggleable__content {max-height: 0;max-width: 0;overflow: hidden;text-align: left;background-color: #f0f8ff;}#sk-container-id-2 div.sk-toggleable__content pre {margin: 0.2em;color: black;border-radius: 0.25em;background-color: #f0f8ff;}#sk-container-id-2 input.sk-toggleable__control:checked~div.sk-toggleable__content {max-height: 200px;max-width: 100%;overflow: auto;}#sk-container-id-2 input.sk-toggleable__control:checked~label.sk-toggleable__label-arrow:before {content: \"▾\";}#sk-container-id-2 div.sk-estimator input.sk-toggleable__control:checked~label.sk-toggleable__label {background-color: #d4ebff;}#sk-container-id-2 div.sk-label input.sk-toggleable__control:checked~label.sk-toggleable__label {background-color: #d4ebff;}#sk-container-id-2 input.sk-hidden--visually {border: 0;clip: rect(1px 1px 1px 1px);clip: rect(1px, 1px, 1px, 1px);height: 1px;margin: -1px;overflow: hidden;padding: 0;position: absolute;width: 1px;}#sk-container-id-2 div.sk-estimator {font-family: monospace;background-color: #f0f8ff;border: 1px dotted black;border-radius: 0.25em;box-sizing: border-box;margin-bottom: 0.5em;}#sk-container-id-2 div.sk-estimator:hover {background-color: #d4ebff;}#sk-container-id-2 div.sk-parallel-item::after {content: \"\";width: 100%;border-bottom: 1px solid gray;flex-grow: 1;}#sk-container-id-2 div.sk-label:hover label.sk-toggleable__label {background-color: #d4ebff;}#sk-container-id-2 div.sk-serial::before {content: \"\";position: absolute;border-left: 1px solid gray;box-sizing: border-box;top: 0;bottom: 0;left: 50%;z-index: 0;}#sk-container-id-2 div.sk-serial {display: flex;flex-direction: column;align-items: center;background-color: white;padding-right: 0.2em;padding-left: 0.2em;position: relative;}#sk-container-id-2 div.sk-item {position: relative;z-index: 1;}#sk-container-id-2 div.sk-parallel {display: flex;align-items: stretch;justify-content: center;background-color: white;position: relative;}#sk-container-id-2 div.sk-item::before, #sk-container-id-2 div.sk-parallel-item::before {content: \"\";position: absolute;border-left: 1px solid gray;box-sizing: border-box;top: 0;bottom: 0;left: 50%;z-index: -1;}#sk-container-id-2 div.sk-parallel-item {display: flex;flex-direction: column;z-index: 1;position: relative;background-color: white;}#sk-container-id-2 div.sk-parallel-item:first-child::after {align-self: flex-end;width: 50%;}#sk-container-id-2 div.sk-parallel-item:last-child::after {align-self: flex-start;width: 50%;}#sk-container-id-2 div.sk-parallel-item:only-child::after {width: 0;}#sk-container-id-2 div.sk-dashed-wrapped {border: 1px dashed gray;margin: 0 0.4em 0.5em 0.4em;box-sizing: border-box;padding-bottom: 0.4em;background-color: white;}#sk-container-id-2 div.sk-label label {font-family: monospace;font-weight: bold;display: inline-block;line-height: 1.2em;}#sk-container-id-2 div.sk-label-container {text-align: center;}#sk-container-id-2 div.sk-container {/* jupyter's `normalize.less` sets `[hidden] { display: none; }` but bootstrap.min.css set `[hidden] { display: none !important; }` so we also need the `!important` here to be able to override the default hidden behavior on the sphinx rendered scikit-learn.org. See: https://github.com/scikit-learn/scikit-learn/issues/21755 */display: inline-block !important;position: relative;}#sk-container-id-2 div.sk-text-repr-fallback {display: none;}</style><div id=\"sk-container-id-2\" class=\"sk-top-container\"><div class=\"sk-text-repr-fallback\"><pre>Pipeline(steps=[(&#x27;grayify&#x27;, RGB2GrayTransformer()),\n",
       "                (&#x27;hogify&#x27;,\n",
       "                 HogTransformer(orientations=8, pixels_per_cell=(3, 3))),\n",
       "                (&#x27;scalify&#x27;, StandardScaler()),\n",
       "                (&#x27;classify&#x27;, SGDClassifier(random_state=42))])</pre><b>In a Jupyter environment, please rerun this cell to show the HTML representation or trust the notebook. <br />On GitHub, the HTML representation is unable to render, please try loading this page with nbviewer.org.</b></div><div class=\"sk-container\" hidden><div class=\"sk-item sk-dashed-wrapped\"><div class=\"sk-label-container\"><div class=\"sk-label sk-toggleable\"><input class=\"sk-toggleable__control sk-hidden--visually\" id=\"sk-estimator-id-6\" type=\"checkbox\" ><label for=\"sk-estimator-id-6\" class=\"sk-toggleable__label sk-toggleable__label-arrow\">Pipeline</label><div class=\"sk-toggleable__content\"><pre>Pipeline(steps=[(&#x27;grayify&#x27;, RGB2GrayTransformer()),\n",
       "                (&#x27;hogify&#x27;,\n",
       "                 HogTransformer(orientations=8, pixels_per_cell=(3, 3))),\n",
       "                (&#x27;scalify&#x27;, StandardScaler()),\n",
       "                (&#x27;classify&#x27;, SGDClassifier(random_state=42))])</pre></div></div></div><div class=\"sk-serial\"><div class=\"sk-item\"><div class=\"sk-estimator sk-toggleable\"><input class=\"sk-toggleable__control sk-hidden--visually\" id=\"sk-estimator-id-7\" type=\"checkbox\" ><label for=\"sk-estimator-id-7\" class=\"sk-toggleable__label sk-toggleable__label-arrow\">RGB2GrayTransformer</label><div class=\"sk-toggleable__content\"><pre>RGB2GrayTransformer()</pre></div></div></div><div class=\"sk-item\"><div class=\"sk-estimator sk-toggleable\"><input class=\"sk-toggleable__control sk-hidden--visually\" id=\"sk-estimator-id-8\" type=\"checkbox\" ><label for=\"sk-estimator-id-8\" class=\"sk-toggleable__label sk-toggleable__label-arrow\">HogTransformer</label><div class=\"sk-toggleable__content\"><pre>HogTransformer(orientations=8, pixels_per_cell=(3, 3))</pre></div></div></div><div class=\"sk-item\"><div class=\"sk-estimator sk-toggleable\"><input class=\"sk-toggleable__control sk-hidden--visually\" id=\"sk-estimator-id-9\" type=\"checkbox\" ><label for=\"sk-estimator-id-9\" class=\"sk-toggleable__label sk-toggleable__label-arrow\">StandardScaler</label><div class=\"sk-toggleable__content\"><pre>StandardScaler()</pre></div></div></div><div class=\"sk-item\"><div class=\"sk-estimator sk-toggleable\"><input class=\"sk-toggleable__control sk-hidden--visually\" id=\"sk-estimator-id-10\" type=\"checkbox\" ><label for=\"sk-estimator-id-10\" class=\"sk-toggleable__label sk-toggleable__label-arrow\">SGDClassifier</label><div class=\"sk-toggleable__content\"><pre>SGDClassifier(random_state=42)</pre></div></div></div></div></div></div></div>"
      ],
      "text/plain": [
       "Pipeline(steps=[('grayify', RGB2GrayTransformer()),\n",
       "                ('hogify',\n",
       "                 HogTransformer(orientations=8, pixels_per_cell=(3, 3))),\n",
       "                ('scalify', StandardScaler()),\n",
       "                ('classify', SGDClassifier(random_state=42))])"
      ]
     },
     "execution_count": 24,
     "metadata": {},
     "output_type": "execute_result"
    }
   ],
   "source": [
    "grid_res.best_estimator_"
   ]
  },
  {
   "cell_type": "code",
   "execution_count": 25,
   "id": "a9ec298c-b094-450a-91ce-b1186d1f8180",
   "metadata": {},
   "outputs": [
    {
     "data": {
      "text/plain": [
       "0.7288461538461539"
      ]
     },
     "execution_count": 25,
     "metadata": {},
     "output_type": "execute_result"
    }
   ],
   "source": [
    "grid_res.best_score_"
   ]
  },
  {
   "cell_type": "code",
   "execution_count": 26,
   "id": "d084f04c-e037-4bcf-9acd-695ba9a78956",
   "metadata": {},
   "outputs": [
    {
     "name": "stdout",
     "output_type": "stream",
     "text": [
      "Percentage correct:  70.0\n"
     ]
    }
   ],
   "source": [
    "best_pred = clf_res.predict(X_test)\n",
    "print('Percentage correct: ', 100*np.sum(best_pred == y_test)/len(y_test))\n"
   ]
  },
  {
   "cell_type": "code",
   "execution_count": 20,
   "id": "1b4aaa2e-8c22-4f82-83f0-270774f52df6",
   "metadata": {
    "scrolled": true
   },
   "outputs": [
    {
     "name": "stdout",
     "output_type": "stream",
     "text": [
      "\n",
      " ['Footholds', 'Jugs', 'Slopers']\n"
     ]
    },
    {
     "data": {
      "image/png": "[encoded data removed]",
      "text/plain": [
       "<Figure size 1200x300 with 6 Axes>"
      ]
     },
     "metadata": {},
     "output_type": "display_data"
    }
   ],
   "source": [
    "from sklearn.metrics import confusion_matrix\n",
    "from mpl_toolkits.axes_grid1 import make_axes_locatable\n",
    " \n",
    "def plot_confusion_matrix(cmx, vmax1=None, vmax2=None, vmax3=None):\n",
    "    cmx_norm = 100*cmx / cmx.sum(axis=1, keepdims=True)\n",
    "    cmx_zero_diag = cmx_norm.copy()\n",
    " \n",
    "    np.fill_diagonal(cmx_zero_diag, 0)\n",
    " \n",
    "    fig, ax = plt.subplots(ncols=3)\n",
    "    fig.set_size_inches(12, 3)\n",
    "    [a.set_xticks(range(len(cmx)+1)) for a in ax]\n",
    "    [a.set_yticks(range(len(cmx)+1)) for a in ax]\n",
    "         \n",
    "    im1 = ax[0].imshow(cmx, vmax=vmax1)\n",
    "    ax[0].set_title('as is')\n",
    "    im2 = ax[1].imshow(cmx_norm, vmax=vmax2)\n",
    "    ax[1].set_title('%')\n",
    "    im3 = ax[2].imshow(cmx_zero_diag, vmax=vmax3)\n",
    "    ax[2].set_title('% and 0 diagonal')\n",
    " \n",
    "    dividers = [make_axes_locatable(a) for a in ax]\n",
    "    cax1, cax2, cax3 = [divider.append_axes(\"right\", size=\"5%\", pad=0.1) \n",
    "                        for divider in dividers]\n",
    " \n",
    "    fig.colorbar(im1, cax=cax1)\n",
    "    fig.colorbar(im2, cax=cax2)\n",
    "    fig.colorbar(im3, cax=cax3)\n",
    "    fig.tight_layout()\n",
    "cmx_svm = confusion_matrix(y_test, best_pred)\n",
    "plot_confusion_matrix(cmx_svm, vmax1=225, vmax2=100, vmax3=12)\n",
    "print('\\n', sorted(np.unique(y_test)))"
   ]
  },
  {
   "cell_type": "code",
   "execution_count": 28,
   "id": "405a5f34-e78c-4f67-bd39-955e2930ca81",
   "metadata": {},
   "outputs": [
    {
     "data": {
      "text/plain": [
       "array([[0.36171137, 0.44980661, 0.18848202]])"
      ]
     },
     "execution_count": 28,
     "metadata": {},
     "output_type": "execute_result"
    }
   ],
   "source": [
    "im = imread(\"sloper.png\")[:,:,:3]\n",
    "im = resize(im, (80, 80)) #[:,:,::-1]\n",
    "clf_res.predict_proba(np.array([im]))"
   ]
  },
  {
   "cell_type": "code",
   "execution_count": 29,
   "id": "807f82c9-c640-4386-aa92-f1dde2cda79b",
   "metadata": {},
   "outputs": [
    {
     "ename": "ModuleNotFoundError",
     "evalue": "No module named 'roboflow'",
     "output_type": "error",
     "traceback": [
      "\u001b[0;31m---------------------------------------------------------------------------\u001b[0m",
      "\u001b[0;31mModuleNotFoundError\u001b[0m                       Traceback (most recent call last)",
      "Cell \u001b[0;32mIn[29], line 1\u001b[0m\n\u001b[0;32m----> 1\u001b[0m \u001b[38;5;28;01mfrom\u001b[39;00m \u001b[38;5;21;01mroboflow\u001b[39;00m \u001b[38;5;28;01mimport\u001b[39;00m Roboflow\n\u001b[1;32m      3\u001b[0m rf \u001b[38;5;241m=\u001b[39m Roboflow(api_key\u001b[38;5;241m=\u001b[39m\u001b[38;5;124m\"\u001b[39m\u001b[38;5;124mL92yodulFT4LlHfg1I5l\u001b[39m\u001b[38;5;124m\"\u001b[39m)\n\u001b[1;32m      4\u001b[0m project \u001b[38;5;241m=\u001b[39m rf\u001b[38;5;241m.\u001b[39mworkspace()\u001b[38;5;241m.\u001b[39mproject(\u001b[38;5;124m\"\u001b[39m\u001b[38;5;124mclimbing-hold-classification\u001b[39m\u001b[38;5;124m\"\u001b[39m)\n",
      "\u001b[0;31mModuleNotFoundError\u001b[0m: No module named 'roboflow'"
     ]
    }
   ],
   "source": [
    "from roboflow import Roboflow\n",
    "\n",
    "rf = Roboflow(api_key=\"L92yodulFT4LlHfg1I5l\")\n",
    "project = rf.workspace().project(\"climbing-hold-classification\")\n",
    "model = project.version(1).model\n",
    "\n",
    "# infer on a local image\n",
    "print(model.predict(\"sloper.jpg\").json())"
   ]
  },
  {
   "cell_type": "code",
   "execution_count": null,
   "id": "efba3d6f-f1a1-44b8-9185-7aec4f9b5d97",
   "metadata": {},
   "outputs": [],
   "source": []
  }
 ],
 "metadata": {
  "kernelspec": {
   "display_name": "Python 3 (ipykernel)",
   "language": "python",
   "name": "python3"
  },
  "language_info": {
   "codemirror_mode": {
    "name": "ipython",
    "version": 3
   },
   "file_extension": ".py",
   "mimetype": "text/x-python",
   "name": "python",
   "nbconvert_exporter": "python",
   "pygments_lexer": "ipython3",
   "version": "3.9.2"
  }
 },
 "nbformat": 4,
 "nbformat_minor": 5
}
