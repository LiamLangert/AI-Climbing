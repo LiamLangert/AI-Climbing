{
 "cells": [
  {
   "cell_type": "code",
   "execution_count": 13,
   "id": "e5e176b2-4f50-4ed8-ad8e-2c4c21e0c092",
   "metadata": {},
   "outputs": [],
   "source": [
    "import math\n",
    "import numpy as np"
   ]
  },
  {
   "cell_type": "code",
   "execution_count": 32,
   "id": "5d6852fa-6d08-47d5-8d10-00795691626c",
   "metadata": {},
   "outputs": [],
   "source": [
    "class Hold:\n",
    "    def __init__(self, left, right, bottom, top, difficulty, angle):\n",
    "        self.left = left\n",
    "        self.right = right\n",
    "        self.top = top\n",
    "        self.bottom = bottom\n",
    "        self.difficulty = difficulty\n",
    "        self.angle = angle\n",
    "    def width(self):\n",
    "        return self.right - self.left\n",
    "    def height(self):\n",
    "        return self.top - self.bottom\n",
    "    def centerx(self):\n",
    "        return self.left + self.width()/2.0\n",
    "    def centery(self):\n",
    "        return self.bottom + self.height()/2.0\n",
    "    def angleToPoint(self, x, y):\n",
    "        try:\n",
    "            ang = self.angle - math.tan((self.centerx() - x)/(self.centery() - y))\n",
    "            if ang == 0:\n",
    "                if y > self.centery():\n",
    "                    return math.pi\n",
    "                else:\n",
    "                    return 0\n",
    "            return ang\n",
    "        except ZeroDivisionError:\n",
    "            return math.pi/2.0"
   ]
  },
  {
   "cell_type": "code",
   "execution_count": null,
   "id": "18a9412f-80b5-43d0-9381-611e0b353a1f",
   "metadata": {},
   "outputs": [],
   "source": [
    "class Limb:\n",
    "    def __init(self, hold, dangle = None):\n",
    "        \"\"\"\n",
    "        hold - class Hold\n",
    "        dangle - boolean or 0/1 - whether or not you are on a hold or not\n",
    "        \"\"\"\n",
    "        self.hold = hold\n",
    "        self.dangle = dangle"
   ]
  },
  {
   "cell_type": "code",
   "execution_count": 35,
   "id": "cb64d174-ab5f-4ac2-b1ac-a25d6624424b",
   "metadata": {},
   "outputs": [],
   "source": [
    "class State:\n",
    "    def __init__(self, lf, rf, lh, rh, hip):\n",
    "        self.lh = lh\n",
    "        self.rh = rh\n",
    "        self.lf = lf \n",
    "        self.rf = rf\n",
    "        self.hip = hip\n",
    "        \"\"\"\n",
    "        hip enum (left, center, right) or (-1, 0, 1)\n",
    "        \"\"\"\n",
    "    def quality(self):\n",
    "        rhQuality = 0\n",
    "        rfQuality = 0\n",
    "        lhQuality = 0\n",
    "        lfQuality = 0\n",
    "\n",
    "        quality = rhQuality + rfQuality + lhQuality + lfQuality"
   ]
  },
  {
   "cell_type": "code",
   "execution_count": 33,
   "id": "c717344f-c820-4d7d-be16-308901d724b7",
   "metadata": {},
   "outputs": [
    {
     "name": "stdout",
     "output_type": "stream",
     "text": [
      "1.0\n",
      "11.0\n",
      "0.14383695943619093\n"
     ]
    }
   ],
   "source": [
    "testhold = Hold(0, 2, 10, 12, 0.3, 0)\n",
    "print(testhold.centerx())\n",
    "print(testhold.centery())\n",
    "print(testhold.angleToPoint(2, 4))"
   ]
  },
  {
   "cell_type": "code",
   "execution_count": null,
   "id": "edc01ab8-a9a5-4db8-88fd-4628dd345b48",
   "metadata": {},
   "outputs": [],
   "source": []
  }
 ],
 "metadata": {
  "kernelspec": {
   "display_name": "Python 3.10.0 64-bit",
   "language": "python",
   "name": "python3"
  },
  "language_info": {
   "codemirror_mode": {
    "name": "ipython",
    "version": 3
   },
   "file_extension": ".py",
   "mimetype": "text/x-python",
   "name": "python",
   "nbconvert_exporter": "python",
   "pygments_lexer": "ipython3",
   "version": "3.10.0"
  },
  "vscode": {
   "interpreter": {
    "hash": "aee8b7b246df8f9039afb4144a1f6fd8d2ca17a180786b69acc140d282b71a49"
   }
  }
 },
 "nbformat": 4,
 "nbformat_minor": 5
}
