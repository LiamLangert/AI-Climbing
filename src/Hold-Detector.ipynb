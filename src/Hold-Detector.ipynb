{
 "cells": [
  {
   "cell_type": "code",
   "execution_count": 2,
   "id": "707b0b07-d23b-4dde-ad6a-cbc20004ab2c",
   "metadata": {},
   "outputs": [
    {
     "name": "stdout",
     "output_type": "stream",
     "text": [
      "loading Roboflow workspace...\n",
      "loading Roboflow project...\n",
      "Dependency ultralytics==8.0.196 is required but found version=8.0.226, to fix: `pip install ultralytics==8.0.196`\n"
     ]
    },
    {
     "name": "stderr",
     "output_type": "stream",
     "text": [
      "Downloading Dataset Version Zip in Hold-Detector-13 to yolov8:: 100%|██████████| 7315/7315 [00:00<00:00, 11528.34it/s]"
     ]
    },
    {
     "name": "stdout",
     "output_type": "stream",
     "text": [
      "\n"
     ]
    },
    {
     "name": "stderr",
     "output_type": "stream",
     "text": [
      "\n",
      "Extracting Dataset Version Zip to Hold-Detector-13 in yolov8:: 100%|██████████| 214/214 [00:00<00:00, 3275.03it/s]\n"
     ]
    }
   ],
   "source": [
    "#**********GET THE DATASET*************\n",
    "#If the model is already trained you don't need to do this \n",
    "from roboflow import Roboflow\n",
    "rf = Roboflow(api_key=\"L92yodulFT4LlHfg1I5l\")\n",
    "project = rf.workspace(\"aiclimbing\").project(\"hold-detector\")\n",
    "dataset = project.version(13).download(\"yolov8\")"
   ]
  },
  {
   "cell_type": "code",
   "execution_count": 3,
   "id": "054da3d2-c05c-4037-a6b1-23200482d293",
   "metadata": {},
   "outputs": [
    {
     "name": "stdout",
     "output_type": "stream",
     "text": [
      "Downloading https://github.com/ultralytics/assets/releases/download/v0.0.0/yolov8n.pt to 'yolov8n.pt'...\n"
     ]
    },
    {
     "name": "stderr",
     "output_type": "stream",
     "text": [
      "100%|██████████| 6.23M/6.23M [00:00<00:00, 14.1MB/s]\n"
     ]
    },
    {
     "name": "stdout",
     "output_type": "stream",
     "text": [
      "New https://pypi.org/project/ultralytics/8.0.227 available 😃 Update with 'pip install -U ultralytics'\n",
      "Ultralytics YOLOv8.0.226 🚀 Python-3.10.0 torch-2.2.0.dev20231210 CPU (Intel Core(TM) i7-9750H 2.60GHz)\n",
      "\u001b[34m\u001b[1mengine/trainer: \u001b[0mtask=detect, mode=train, model=yolov8n.pt, data=data.yaml, epochs=50, patience=50, batch=8, imgsz=1280, save=True, save_period=-1, cache=False, device=None, workers=8, project=None, name=yolov8n_v8_50e, exist_ok=False, pretrained=True, optimizer=auto, verbose=True, seed=0, deterministic=True, single_cls=False, rect=False, cos_lr=False, close_mosaic=10, resume=False, amp=True, fraction=1.0, profile=False, freeze=None, overlap_mask=True, mask_ratio=4, dropout=0.0, val=True, split=val, save_json=False, save_hybrid=False, conf=None, iou=0.7, max_det=300, half=False, dnn=False, plots=True, source=None, vid_stride=1, stream_buffer=False, visualize=False, augment=False, agnostic_nms=False, classes=None, retina_masks=False, show=False, save_frames=False, save_txt=False, save_conf=False, save_crop=False, show_labels=True, show_conf=True, show_boxes=True, line_width=None, format=torchscript, keras=False, optimize=False, int8=False, dynamic=False, simplify=False, opset=None, workspace=4, nms=False, lr0=0.01, lrf=0.01, momentum=0.937, weight_decay=0.0005, warmup_epochs=3.0, warmup_momentum=0.8, warmup_bias_lr=0.1, box=7.5, cls=0.5, dfl=1.5, pose=12.0, kobj=1.0, label_smoothing=0.0, nbs=64, hsv_h=0.015, hsv_s=0.7, hsv_v=0.4, degrees=0.0, translate=0.1, scale=0.5, shear=0.0, perspective=0.0, flipud=0.0, fliplr=0.5, mosaic=1.0, mixup=0.0, copy_paste=0.0, cfg=None, tracker=botsort.yaml, save_dir=runs/detect/yolov8n_v8_50e\n"
     ]
    },
    {
     "ename": "RuntimeError",
     "evalue": "Dataset 'data.yaml' error ❌ \nDataset 'data.yaml' images not found ⚠️, missing path '/Users/liam/courses/year4/ai_cs4100/AI-Climbing/datasets/Hold-Detector-13/valid/images'\nNote dataset download directory is '/Users/liam/courses/year4/ai_cs4100/AI-Climbing/datasets'. You can update this in '/Users/liam/Library/Application Support/Ultralytics/settings.yaml'",
     "output_type": "error",
     "traceback": [
      "\u001b[0;31m---------------------------------------------------------------------------\u001b[0m",
      "\u001b[0;31mFileNotFoundError\u001b[0m                         Traceback (most recent call last)",
      "File \u001b[0;32m/Library/Frameworks/Python.framework/Versions/3.10/lib/python3.10/site-packages/ultralytics/engine/trainer.py:116\u001b[0m, in \u001b[0;36mBaseTrainer.__init__\u001b[0;34m(self, cfg, overrides, _callbacks)\u001b[0m\n\u001b[1;32m    115\u001b[0m \u001b[39melif\u001b[39;00m \u001b[39mself\u001b[39m\u001b[39m.\u001b[39margs\u001b[39m.\u001b[39mdata\u001b[39m.\u001b[39msplit(\u001b[39m'\u001b[39m\u001b[39m.\u001b[39m\u001b[39m'\u001b[39m)[\u001b[39m-\u001b[39m\u001b[39m1\u001b[39m] \u001b[39min\u001b[39;00m (\u001b[39m'\u001b[39m\u001b[39myaml\u001b[39m\u001b[39m'\u001b[39m, \u001b[39m'\u001b[39m\u001b[39myml\u001b[39m\u001b[39m'\u001b[39m) \u001b[39mor\u001b[39;00m \u001b[39mself\u001b[39m\u001b[39m.\u001b[39margs\u001b[39m.\u001b[39mtask \u001b[39min\u001b[39;00m (\u001b[39m'\u001b[39m\u001b[39mdetect\u001b[39m\u001b[39m'\u001b[39m, \u001b[39m'\u001b[39m\u001b[39msegment\u001b[39m\u001b[39m'\u001b[39m, \u001b[39m'\u001b[39m\u001b[39mpose\u001b[39m\u001b[39m'\u001b[39m):\n\u001b[0;32m--> 116\u001b[0m     \u001b[39mself\u001b[39m\u001b[39m.\u001b[39mdata \u001b[39m=\u001b[39m check_det_dataset(\u001b[39mself\u001b[39;49m\u001b[39m.\u001b[39;49margs\u001b[39m.\u001b[39;49mdata)\n\u001b[1;32m    117\u001b[0m     \u001b[39mif\u001b[39;00m \u001b[39m'\u001b[39m\u001b[39myaml_file\u001b[39m\u001b[39m'\u001b[39m \u001b[39min\u001b[39;00m \u001b[39mself\u001b[39m\u001b[39m.\u001b[39mdata:\n",
      "File \u001b[0;32m/Library/Frameworks/Python.framework/Versions/3.10/lib/python3.10/site-packages/ultralytics/data/utils.py:312\u001b[0m, in \u001b[0;36mcheck_det_dataset\u001b[0;34m(dataset, autodownload)\u001b[0m\n\u001b[1;32m    311\u001b[0m     m \u001b[39m+\u001b[39m\u001b[39m=\u001b[39m \u001b[39mf\u001b[39m\u001b[39m\"\u001b[39m\u001b[39m\\n\u001b[39;00m\u001b[39mNote dataset download directory is \u001b[39m\u001b[39m'\u001b[39m\u001b[39m{\u001b[39;00mDATASETS_DIR\u001b[39m}\u001b[39;00m\u001b[39m'\u001b[39m\u001b[39m. You can update this in \u001b[39m\u001b[39m'\u001b[39m\u001b[39m{\u001b[39;00mSETTINGS_YAML\u001b[39m}\u001b[39;00m\u001b[39m'\u001b[39m\u001b[39m\"\u001b[39m\n\u001b[0;32m--> 312\u001b[0m     \u001b[39mraise\u001b[39;00m \u001b[39mFileNotFoundError\u001b[39;00m(m)\n\u001b[1;32m    313\u001b[0m t \u001b[39m=\u001b[39m time\u001b[39m.\u001b[39mtime()\n",
      "\u001b[0;31mFileNotFoundError\u001b[0m: \nDataset 'data.yaml' images not found ⚠️, missing path '/Users/liam/courses/year4/ai_cs4100/AI-Climbing/datasets/Hold-Detector-13/valid/images'\nNote dataset download directory is '/Users/liam/courses/year4/ai_cs4100/AI-Climbing/datasets'. You can update this in '/Users/liam/Library/Application Support/Ultralytics/settings.yaml'",
      "\nThe above exception was the direct cause of the following exception:\n",
      "\u001b[0;31mRuntimeError\u001b[0m                              Traceback (most recent call last)",
      "Cell \u001b[0;32mIn[3], line 16\u001b[0m\n\u001b[1;32m     14\u001b[0m \u001b[38;5;28;01mexcept\u001b[39;00m:\n\u001b[1;32m     15\u001b[0m     \u001b[38;5;28;01mpass\u001b[39;00m\n\u001b[0;32m---> 16\u001b[0m results \u001b[38;5;241m=\u001b[39m \u001b[43mmodel\u001b[49m\u001b[38;5;241;43m.\u001b[39;49m\u001b[43mtrain\u001b[49m\u001b[43m(\u001b[49m\n\u001b[1;32m     17\u001b[0m \u001b[43m    \u001b[49m\u001b[43mdata\u001b[49m\u001b[38;5;241;43m=\u001b[39;49m\u001b[38;5;124;43m'\u001b[39;49m\u001b[38;5;124;43mdata.yaml\u001b[39;49m\u001b[38;5;124;43m'\u001b[39;49m\u001b[43m,\u001b[49m\n\u001b[1;32m     18\u001b[0m \u001b[43m    \u001b[49m\u001b[43mimgsz\u001b[49m\u001b[38;5;241;43m=\u001b[39;49m\u001b[38;5;241;43m1280\u001b[39;49m\u001b[43m,\u001b[49m\n\u001b[1;32m     19\u001b[0m \u001b[43m    \u001b[49m\u001b[43mepochs\u001b[49m\u001b[38;5;241;43m=\u001b[39;49m\u001b[38;5;241;43m50\u001b[39;49m\u001b[43m,\u001b[49m\n\u001b[1;32m     20\u001b[0m \u001b[43m    \u001b[49m\u001b[43mbatch\u001b[49m\u001b[38;5;241;43m=\u001b[39;49m\u001b[38;5;241;43m8\u001b[39;49m\u001b[43m,\u001b[49m\n\u001b[1;32m     21\u001b[0m \u001b[43m    \u001b[49m\u001b[43mname\u001b[49m\u001b[38;5;241;43m=\u001b[39;49m\u001b[38;5;124;43m'\u001b[39;49m\u001b[38;5;124;43myolov8n_v8_50e\u001b[39;49m\u001b[38;5;124;43m'\u001b[39;49m\u001b[43m,\u001b[49m\n\u001b[1;32m     22\u001b[0m \u001b[43m)\u001b[49m\n",
      "File \u001b[0;32m/Library/Frameworks/Python.framework/Versions/3.10/lib/python3.10/site-packages/ultralytics/engine/model.py:333\u001b[0m, in \u001b[0;36mModel.train\u001b[0;34m(self, trainer, **kwargs)\u001b[0m\n\u001b[1;32m    330\u001b[0m \u001b[39mif\u001b[39;00m args\u001b[39m.\u001b[39mget(\u001b[39m'\u001b[39m\u001b[39mresume\u001b[39m\u001b[39m'\u001b[39m):\n\u001b[1;32m    331\u001b[0m     args[\u001b[39m'\u001b[39m\u001b[39mresume\u001b[39m\u001b[39m'\u001b[39m] \u001b[39m=\u001b[39m \u001b[39mself\u001b[39m\u001b[39m.\u001b[39mckpt_path\n\u001b[0;32m--> 333\u001b[0m \u001b[39mself\u001b[39m\u001b[39m.\u001b[39mtrainer \u001b[39m=\u001b[39m (trainer \u001b[39mor\u001b[39;49;00m \u001b[39mself\u001b[39;49m\u001b[39m.\u001b[39;49m_smart_load(\u001b[39m'\u001b[39;49m\u001b[39mtrainer\u001b[39;49m\u001b[39m'\u001b[39;49m))(overrides\u001b[39m=\u001b[39;49margs, _callbacks\u001b[39m=\u001b[39;49m\u001b[39mself\u001b[39;49m\u001b[39m.\u001b[39;49mcallbacks)\n\u001b[1;32m    334\u001b[0m \u001b[39mif\u001b[39;00m \u001b[39mnot\u001b[39;00m args\u001b[39m.\u001b[39mget(\u001b[39m'\u001b[39m\u001b[39mresume\u001b[39m\u001b[39m'\u001b[39m):  \u001b[39m# manually set model only if not resuming\u001b[39;00m\n\u001b[1;32m    335\u001b[0m     \u001b[39mself\u001b[39m\u001b[39m.\u001b[39mtrainer\u001b[39m.\u001b[39mmodel \u001b[39m=\u001b[39m \u001b[39mself\u001b[39m\u001b[39m.\u001b[39mtrainer\u001b[39m.\u001b[39mget_model(weights\u001b[39m=\u001b[39m\u001b[39mself\u001b[39m\u001b[39m.\u001b[39mmodel \u001b[39mif\u001b[39;00m \u001b[39mself\u001b[39m\u001b[39m.\u001b[39mckpt \u001b[39melse\u001b[39;00m \u001b[39mNone\u001b[39;00m, cfg\u001b[39m=\u001b[39m\u001b[39mself\u001b[39m\u001b[39m.\u001b[39mmodel\u001b[39m.\u001b[39myaml)\n",
      "File \u001b[0;32m/Library/Frameworks/Python.framework/Versions/3.10/lib/python3.10/site-packages/ultralytics/engine/trainer.py:120\u001b[0m, in \u001b[0;36mBaseTrainer.__init__\u001b[0;34m(self, cfg, overrides, _callbacks)\u001b[0m\n\u001b[1;32m    118\u001b[0m             \u001b[39mself\u001b[39m\u001b[39m.\u001b[39margs\u001b[39m.\u001b[39mdata \u001b[39m=\u001b[39m \u001b[39mself\u001b[39m\u001b[39m.\u001b[39mdata[\u001b[39m'\u001b[39m\u001b[39myaml_file\u001b[39m\u001b[39m'\u001b[39m]  \u001b[39m# for validating 'yolo train data=url.zip' usage\u001b[39;00m\n\u001b[1;32m    119\u001b[0m \u001b[39mexcept\u001b[39;00m \u001b[39mException\u001b[39;00m \u001b[39mas\u001b[39;00m e:\n\u001b[0;32m--> 120\u001b[0m     \u001b[39mraise\u001b[39;00m \u001b[39mRuntimeError\u001b[39;00m(emojis(\u001b[39mf\u001b[39m\u001b[39m\"\u001b[39m\u001b[39mDataset \u001b[39m\u001b[39m'\u001b[39m\u001b[39m{\u001b[39;00mclean_url(\u001b[39mself\u001b[39m\u001b[39m.\u001b[39margs\u001b[39m.\u001b[39mdata)\u001b[39m}\u001b[39;00m\u001b[39m'\u001b[39m\u001b[39m error ❌ \u001b[39m\u001b[39m{\u001b[39;00me\u001b[39m}\u001b[39;00m\u001b[39m\"\u001b[39m)) \u001b[39mfrom\u001b[39;00m \u001b[39me\u001b[39;00m\n\u001b[1;32m    122\u001b[0m \u001b[39mself\u001b[39m\u001b[39m.\u001b[39mtrainset, \u001b[39mself\u001b[39m\u001b[39m.\u001b[39mtestset \u001b[39m=\u001b[39m \u001b[39mself\u001b[39m\u001b[39m.\u001b[39mget_dataset(\u001b[39mself\u001b[39m\u001b[39m.\u001b[39mdata)\n\u001b[1;32m    123\u001b[0m \u001b[39mself\u001b[39m\u001b[39m.\u001b[39mema \u001b[39m=\u001b[39m \u001b[39mNone\u001b[39;00m\n",
      "\u001b[0;31mRuntimeError\u001b[0m: Dataset 'data.yaml' error ❌ \nDataset 'data.yaml' images not found ⚠️, missing path '/Users/liam/courses/year4/ai_cs4100/AI-Climbing/datasets/Hold-Detector-13/valid/images'\nNote dataset download directory is '/Users/liam/courses/year4/ai_cs4100/AI-Climbing/datasets'. You can update this in '/Users/liam/Library/Application Support/Ultralytics/settings.yaml'"
     ]
    }
   ],
   "source": [
    "#*********TRAIN THE MODEL**********\n",
    "#This should already be pretrained so you don't need to do this either\n",
    "#also it takes like an hour\n",
    "from ultralytics import YOLO \n",
    "import os\n",
    "# Training.\n",
    "model = YOLO(\"yolov8n.pt\")\n",
    "try:\n",
    "    os.rename(\"Hold-Detector-13\", \"datasets\")\n",
    "except:\n",
    "    pass\n",
    "try:\n",
    "    os.rename(\"datasets/data.yaml\", \"data.yaml\")\n",
    "except:\n",
    "    pass\n",
    "results = model.train(\n",
    "    data='data.yaml',\n",
    "    imgsz=1280,\n",
    "    epochs=50,\n",
    "    batch=8,\n",
    "    name='yolov8n_v8_50e',\n",
    ")"
   ]
  },
  {
   "cell_type": "code",
   "execution_count": 4,
   "id": "9ad37b17-eaf2-4900-b943-56ad6dda3431",
   "metadata": {
    "scrolled": true
   },
   "outputs": [],
   "source": [
    "from PIL import Image\n",
    "import numpy as np\n",
    "from ultralytics import YOLO\n",
    "from ultralytics.engine.results import Boxes\n",
    "import cv2\n",
    "# Load a pretrained YOLOv8n model\n",
    "model = YOLO('../runs/detect/yolov8n_v8_50e22/weights/best.pt')\n",
    "\n",
    "# Gets the image at the specified path as a numpy array\n",
    "def getImage(path):\n",
    "    img = cv2.imread(path)\n",
    "    return img\n",
    "\n",
    "# Displays the results of model(image)\n",
    "def dispResults(results):\n",
    "    for r in results:\n",
    "        im_array = r.plot()  # plot a BGR numpy array of predictions\n",
    "        im = Image.fromarray(im_array[..., ::-1])  # RGB PIL image\n",
    "        im.show()  # show image\n",
    "        im.save('results.jpg')  # save image\n",
    "\n",
    "# Removes all bounding boxes in the results of model(image)\n",
    "# that may be cut off by the sides\n",
    "def removeEdges(results):\n",
    "    for r in results:\n",
    "        boxes_coords = np.array(r.boxes.xyxy)\n",
    "        boxes_last = np.array(r.boxes.data[:, 4:])\n",
    "        i=0\n",
    "        while i < (len(boxes_coords)):\n",
    "            x1, y1, x2, y2 = boxes_coords[i]\n",
    "            imh = r.boxes.orig_shape[0]\n",
    "            imw = r.boxes.orig_shape[1]\n",
    "            if (x1 < imw / 100.0) or (y1 < imh / 100) or (x2 > imw - imw / 100.0) or (y2 > imh - imh / 100.0):\n",
    "                boxes_coords = np.delete(boxes_coords, i, 0)\n",
    "                boxes_last = np.delete(boxes_last, i, 0)\n",
    "                i -= 1\n",
    "            i += 1\n",
    "        new_data = np.concatenate((boxes_coords, boxes_last), axis=1)\n",
    "        newboxes = Boxes(new_data, r.boxes.orig_shape)\n",
    "        r.boxes = newboxes\n",
    "    return results\n"
   ]
  },
  {
   "cell_type": "code",
   "execution_count": 5,
   "id": "0724cbc1",
   "metadata": {},
   "outputs": [],
   "source": [
    "import os\n",
    "\n",
    "def getBoxAsImage(results, index):\n",
    "    r = results[0]\n",
    "    x1, y1, x2, y2 = np.array(r.boxes.xyxy)[index]\n",
    "    im_array = np.array(r.orig_img)\n",
    "    cropped = im_array[round(y1):round(y2), round(x1):round(x2)]\n",
    "    return cropped\n",
    "        \n",
    "def individualHolds(model, img_path, hold_path):\n",
    "    try:\n",
    "        os.rmdir(hold_path)\n",
    "    except:\n",
    "        pass\n",
    "    os.mkdir(hold_path)\n",
    "    for img_name in os.listdir(img_path):   \n",
    "        img = getImage(f\"{img_path}/{img_name}\")\n",
    "        results = model(img)\n",
    "        results = removeEdges(results)\n",
    "        r = results[0]\n",
    "        for i in range(len(r.boxes)):\n",
    "            im_array = getBoxAsImage(results, i)\n",
    "            im = Image.fromarray(im_array)\n",
    "            im.save(f\"{hold_path}/{str(i) + '-'}{img_name}\")"
   ]
  },
  {
   "cell_type": "code",
   "execution_count": null,
   "id": "0a8d0a4d",
   "metadata": {},
   "outputs": [],
   "source": [
    "def colorDifference (color1, color2):\n",
    "    c1hsv = cv2.cvtColor(color1, cv2.COLOR_RGB2HSV)\n",
    "    c2hsv = cv2.cvtColor(color1, cv2.COLOR_RGB2HSV)\n",
    "    return abs(c1hsv[0] - c2hsv[0])\n",
    "\n",
    "\n",
    "def getDomColor(img):\n",
    "    #Use K-means clustering to find the 2 dominant colors\n",
    "    #https://stackoverflow.com/questions/43111029/how-to-find-the-average-colour-of-an-image-in-python-with-opencv\n",
    "    \n",
    "    average = img.mean(axis=0).mean(axis=0)\n",
    "    pixels = np.float32(img.reshape(-1, 3))\n",
    "    n_colors = 2\n",
    "    criteria = (cv2.TERM_CRITERIA_EPS + cv2.TERM_CRITERIA_MAX_ITER, 200, .1)\n",
    "    flags = cv2.KMEANS_RANDOM_CENTERS\n",
    "\n",
    "    _, labels, palette = cv2.kmeans(pixels, n_colors, None, criteria, 10, flags)\n",
    "    _, counts = np.unique(labels, return_counts=True)\n",
    "    hsv_palette = []\n",
    "    for i in range(len(palette)):\n",
    "        hsv_palette.append(cv2.cvtColor(np.array([[palette[i]]]), cv2.COLOR_BGR2HSV)[0][0])\n",
    "        hsv_palette[i] = np.array([hsv_palette[i][0], hsv_palette[i][1] * 100, hsv_palette[i][2] * 100 / 255.0])\n",
    "    #compares the saturations of the two colors (to filter for the wall)\n",
    "    sats = np.array([col[1] for col in hsv_palette])\n",
    "    #print(hsv_palette)\n",
    "    return(hsv_palette[np.argmax(sats)])\n"
   ]
  },
  {
   "cell_type": "code",
   "execution_count": null,
   "id": "880688bd",
   "metadata": {},
   "outputs": [],
   "source": [
    "def closeEnough(color2, color1):\n",
    "    if color1[1] == 0:\n",
    "        if color2[1] < 20:\n",
    "            if color2[2] < 50 and color1[2] < 50:\n",
    "                return True\n",
    "            elif color2[2] > 50 and color1[2] > 50:\n",
    "                return True\n",
    "            else:\n",
    "                return False\n",
    "        return False\n",
    "    else:\n",
    "        if color2[1] >= color1[1] and color2[2] >= color1[2]:\n",
    "            diff = abs(color1[0] - color2[0])\n",
    "            colcheck = min(diff, 360 - diff) < 15\n",
    "            return colcheck\n",
    "    return False\n",
    "def getHoldsNearColor(results, color):\n",
    "    for r in results:\n",
    "        boxes_data = np.array(r.boxes.data)\n",
    "        new_data = np.array([])\n",
    "        for i in range(len(r.boxes)):\n",
    "            img = getBoxAsImage(results, i)\n",
    "            dom = getDomColor(img)\n",
    "            if closeEnough(dom, color): \n",
    "                #print(\"****\")\n",
    "                print(dom)\n",
    "                if len(new_data) == 0:\n",
    "                    new_data = np.array([boxes_data[i]])\n",
    "                else:\n",
    "                    new_data = np.append(new_data, [boxes_data[i]], axis=0)\n",
    "        newboxes = Boxes(new_data, r.boxes.orig_shape)\n",
    "        r.boxes = newboxes\n",
    "    return results"
   ]
  },
  {
   "cell_type": "code",
   "execution_count": 7,
   "id": "fe58c557",
   "metadata": {
    "scrolled": true
   },
   "outputs": [
    {
     "name": "stdout",
     "output_type": "stream",
     "text": [
      "\n",
      "0: 1280x1184 97 holds, 305.0ms\n",
      "Speed: 20.5ms preprocess, 305.0ms inference, 1.5ms postprocess per image at shape (1, 3, 1280, 1184)\n"
     ]
    }
   ],
   "source": [
    "im = getImage(\"../images/coolwall.jpg\")\n",
    "results = (model.predict(im))\n",
    "#dispResults(results)\n",
    "# results = model.predict(im)\n",
    "# greens = getHoldsNearColor(results, np.array([110, 5, 10]))\n",
    "dispResults(results)"
   ]
  },
  {
   "cell_type": "code",
   "execution_count": null,
   "id": "88db3391-c6fa-421a-b54c-c223ed04a9b3",
   "metadata": {},
   "outputs": [],
   "source": [
    "class Hold:\n",
    "    def __init__(self, x1, y1, x2, y2, dif):\n",
    "        self.x1, self.y1, self.x2, self.y2, self.dif = x1, y1, x2, y2, dif"
   ]
  },
  {
   "cell_type": "code",
   "execution_count": null,
   "id": "615c0f45",
   "metadata": {},
   "outputs": [],
   "source": [
    "def getHoldsFromResults(results):\n",
    "    for r in results:\n",
    "        holds = []\n",
    "        boxes_data = np.array(r.boxes.xyxy)\n",
    "        for box in boxes_data:\n",
    "            holds.append(Hold(box[0], box[1], box[2], box[3], 0))\n",
    "    return(holds)"
   ]
  }
 ],
 "metadata": {
  "kernelspec": {
   "display_name": "Python 3.10.0 64-bit",
   "language": "python",
   "name": "python3"
  },
  "language_info": {
   "codemirror_mode": {
    "name": "ipython",
    "version": 3
   },
   "file_extension": ".py",
   "mimetype": "text/x-python",
   "name": "python",
   "nbconvert_exporter": "python",
   "pygments_lexer": "ipython3",
   "version": "3.10.0"
  },
  "vscode": {
   "interpreter": {
    "hash": "aee8b7b246df8f9039afb4144a1f6fd8d2ca17a180786b69acc140d282b71a49"
   }
  }
 },
 "nbformat": 4,
 "nbformat_minor": 5
}
